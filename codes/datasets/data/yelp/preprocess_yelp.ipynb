{
 "cells": [
  {
   "cell_type": "code",
   "execution_count": null,
   "metadata": {},
   "outputs": [],
   "source": [
    "import pandas as pd\n",
    "import numpy as np\n",
    "import json"
   ]
  },
  {
   "cell_type": "code",
   "execution_count": null,
   "metadata": {},
   "outputs": [],
   "source": [
    "review_file = open('/data/yelp/yelp_academic_dataset_review.json')\n",
    "reviews = []\n",
    "for line in review_file:\n",
    "    reviews.append(json.loads(line))\n",
    "review_df = pd.DataFrame(reviews)\n",
    "review_df"
   ]
  },
  {
   "cell_type": "code",
   "execution_count": null,
   "metadata": {},
   "outputs": [],
   "source": [
    "user_file = open('/data/yelp/yelp_academic_dataset_user.json')\n",
    "users = []\n",
    "for line in user_file:\n",
    "    users.append(json.loads(line))\n",
    "user_df = pd.DataFrame(users)\n",
    "user_df"
   ]
  },
  {
   "cell_type": "code",
   "execution_count": null,
   "metadata": {},
   "outputs": [],
   "source": [
    "business_file = open('/data/yelp/yelp_academic_dataset_business.json')\n",
    "businesses = []\n",
    "for line in business_file:\n",
    "    businesses.append(json.loads(line))\n",
    "business_df = pd.DataFrame(businesses)\n",
    "business_df"
   ]
  },
  {
   "cell_type": "code",
   "execution_count": null,
   "metadata": {},
   "outputs": [],
   "source": [
    "def filte(df: pd.DataFrame, thresh=20):\n",
    "    users = []\n",
    "    for k, v in df['user_id'].value_counts().items():\n",
    "        if v < thresh:\n",
    "            users.append(k)\n",
    "    \n",
    "    items = []\n",
    "    for k, v in df['business_id'].value_counts().items():\n",
    "        if v < thresh:\n",
    "            items.append(k)\n",
    "\n",
    "    return set(users), set(items)"
   ]
  },
  {
   "cell_type": "code",
   "execution_count": null,
   "metadata": {},
   "outputs": [],
   "source": [
    "drop_users, drop_items = filte(review_df)\n",
    "\n",
    "review_df.drop(review_df[review_df['user_id'].isin(drop_users)].index, inplace=True)\n",
    "review_df.drop(review_df[review_df['business_id'].isin(drop_items)].index, inplace=True)\n",
    "\n",
    "user_df.drop(user_df[user_df['user_id'].isin(drop_users)].index, inplace=True)\n",
    "\n",
    "business_df.drop(business_df[business_df['business_id'].isin(drop_items)].index, inplace=True)"
   ]
  },
  {
   "cell_type": "code",
   "execution_count": null,
   "metadata": {},
   "outputs": [],
   "source": [
    "review_df['date'] = pd.to_datetime(review_df['date'], format='%Y-%m-%d %H:%M:%S')"
   ]
  },
  {
   "cell_type": "code",
   "execution_count": null,
   "metadata": {},
   "outputs": [],
   "source": [
    "review_df = review_df[['stars', 'user_id', 'business_id', 'useful', 'funny', 'cool', 'date']]"
   ]
  },
  {
   "cell_type": "code",
   "execution_count": null,
   "metadata": {},
   "outputs": [],
   "source": [
    "user_df = user_df[['user_id', 'review_count', 'yelping_since', 'useful', 'funny', 'cool']]\n",
    "# user_df['yelping_since'] = user_df['yelping_since'].apply(date_func)\n",
    "user_df['yelping_since'] = pd.qcut(pd.to_datetime(user_df['yelping_since'], format='%Y-%m-%d'), 100, labels=False, duplicates='drop')\n",
    "user_df['review_count'] = pd.qcut(user_df['review_count'].apply(lambda x: int(x)), 100, labels=False, duplicates='drop')\n",
    "user_df['useful'] = pd.qcut(user_df['useful'].apply(lambda x: int(x)), 100, labels=False, duplicates='drop')\n",
    "user_df['funny'] = pd.qcut(user_df['funny'].apply(lambda x: int(x)), 100, labels=False, duplicates='drop')\n",
    "user_df['cool'] = pd.qcut(user_df['cool'].apply(lambda x: int(x)), 100, labels=False, duplicates='drop')"
   ]
  },
  {
   "cell_type": "code",
   "execution_count": null,
   "metadata": {},
   "outputs": [],
   "source": [
    "business_df = business_df[['business_id', 'city', 'state', 'stars', 'review_count', 'is_open', 'categories']]\n",
    "# business_df['address'] = business_df['address'].append(lambda x: str(x).replace(',', ''))\n",
    "business_df['stars'] = pd.qcut(business_df['stars'].astype(np.float32), 5, labels=False, duplicates='drop')\n",
    "business_df['review_count'] = pd.qcut(business_df['review_count'].apply(lambda x: int(x)), 20, labels=False, duplicates='drop')\n",
    "business_df['categories'] = business_df['categories'].apply(lambda x: '_'.join(str(x).replace(' ', '').split(',')))"
   ]
  },
  {
   "cell_type": "code",
   "execution_count": null,
   "metadata": {},
   "outputs": [],
   "source": [
    "result_df = pd.merge(review_df, user_df, on='user_id')\n",
    "result_df = pd.merge(result_df, business_df, on='business_id')"
   ]
  },
  {
   "cell_type": "code",
   "execution_count": null,
   "metadata": {},
   "outputs": [],
   "source": [
    "result_df"
   ]
  },
  {
   "cell_type": "code",
   "execution_count": null,
   "metadata": {},
   "outputs": [],
   "source": [
    "result_df.to_csv('/data/yelp/yelp.txt', index=False)"
   ]
  }
 ],
 "metadata": {
  "interpreter": {
   "hash": "a890bbb692c9c7f124f7f8b0b4c2c1335b6093ace8c9ea946abc46d40c552989"
  },
  "kernelspec": {
   "display_name": "Python 3.8.5 ('workspace')",
   "language": "python",
   "name": "python3"
  },
  "language_info": {
   "codemirror_mode": {
    "name": "ipython",
    "version": 3
   },
   "file_extension": ".py",
   "mimetype": "text/x-python",
   "name": "python",
   "nbconvert_exporter": "python",
   "pygments_lexer": "ipython3",
   "version": "3.8.5"
  },
  "orig_nbformat": 4
 },
 "nbformat": 4,
 "nbformat_minor": 2
}
