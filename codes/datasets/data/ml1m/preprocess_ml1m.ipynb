{
 "cells": [
  {
   "cell_type": "code",
   "execution_count": null,
   "metadata": {},
   "outputs": [],
   "source": [
    "import pandas as pd\n",
    "from sklearn.preprocessing import LabelEncoder\n",
    "import numpy as np\n",
    "from tqdm.auto import tqdm\n",
    "import re"
   ]
  },
  {
   "cell_type": "code",
   "execution_count": null,
   "metadata": {},
   "outputs": [],
   "source": [
    "rating_file = '/data/autotower/datasets/autorecall/ml1m/ratings.dat'\n",
    "user_file = '/data/autotower/datasets/autorecall/ml1m/users.dat'\n",
    "item_file = '/data/autotower/datasets/autorecall/ml1m/movies.dat'"
   ]
  },
  {
   "cell_type": "code",
   "execution_count": null,
   "metadata": {},
   "outputs": [],
   "source": [
    "rating_df = pd.read_csv(rating_file, '::', header=None, engine='python')\n",
    "rating_df.rename({\n",
    "    0: 'user_id',\n",
    "    1: 'movie_id',\n",
    "    2: 'rating',\n",
    "    3: 'timestamp'\n",
    "}, axis=1, inplace=True)\n",
    "user_df = pd.read_csv(user_file, '::', header=None, engine='python')\n",
    "user_df.rename({\n",
    "    0: 'user_id',\n",
    "    1: 'gender',\n",
    "    2: 'age',\n",
    "    3: 'occupation',\n",
    "    4: 'zip'\n",
    "}, axis=1, inplace=True)\n",
    "item_df = pd.read_csv(item_file, '::', header=None, engine='python', encoding=\"ISO-8859-1\")\n",
    "item_df.rename({\n",
    "    0: 'movie_id',\n",
    "    1: 'title',\n",
    "    2: 'generes'\n",
    "}, axis=1, inplace=True)\n",
    "\n",
    "data_df = pd.merge(rating_df, user_df, on='user_id')\n",
    "data_df = pd.merge(data_df, item_df, on='movie_id')\n",
    "data_df.to_csv('ml1m.csv', index=False)"
   ]
  },
  {
   "cell_type": "code",
   "execution_count": null,
   "metadata": {},
   "outputs": [],
   "source": [
    "data_df = pd.read_csv('ml1m.txt')"
   ]
  }
 ],
 "metadata": {
  "interpreter": {
   "hash": "86a32448ebd330314bb69120b23620a3eb2796e96e98594a04d3f7d8f8591086"
  },
  "kernelspec": {
   "display_name": "Python 3.9.7 ('')",
   "language": "python",
   "name": "python3"
  },
  "language_info": {
   "codemirror_mode": {
    "name": "ipython",
    "version": 3
   },
   "file_extension": ".py",
   "mimetype": "text/x-python",
   "name": "python",
   "nbconvert_exporter": "python",
   "pygments_lexer": "ipython3",
   "version": "3.9.7"
  },
  "orig_nbformat": 4
 },
 "nbformat": 4,
 "nbformat_minor": 2
}
