{
 "cells": [
  {
   "cell_type": "code",
   "execution_count": null,
   "metadata": {},
   "outputs": [],
   "source": [
    "import os\n",
    "import pandas as pd"
   ]
  },
  {
   "cell_type": "code",
   "execution_count": null,
   "metadata": {},
   "outputs": [],
   "source": [
    "rating_file = '/data/ml-100k/u.data'\n",
    "user_file = '/data/ml-100k/u.user'\n",
    "item_file = '/data/ml-100k/u.item'"
   ]
  },
  {
   "cell_type": "code",
   "execution_count": null,
   "metadata": {},
   "outputs": [],
   "source": [
    "rating_df = pd.read_csv(rating_file, sep='\\t', header=None)\n",
    "rating_df.rename({\n",
    "    0: 'user_id',\n",
    "    1: 'movie_id',\n",
    "    2: 'rating',\n",
    "    3: 'timestamp'\n",
    "}, axis=1, inplace=True)\n",
    "rating_df"
   ]
  },
  {
   "cell_type": "code",
   "execution_count": null,
   "metadata": {},
   "outputs": [],
   "source": [
    "\n",
    "user_df = pd.read_csv(user_file, sep='|', header=None)\n",
    "user_df.rename({\n",
    "    0: 'user_id',\n",
    "    1: 'age',\n",
    "    2: 'gender',\n",
    "    3: 'occupation',\n",
    "    4: 'zip'\n",
    "}, axis=1, inplace=True)\n",
    "user_df"
   ]
  },
  {
   "cell_type": "code",
   "execution_count": null,
   "metadata": {},
   "outputs": [],
   "source": [
    "\n",
    "item_df = pd.read_csv(item_file, sep='|', header=None, encoding=\"ISO-8859-1\")"
   ]
  },
  {
   "cell_type": "code",
   "execution_count": null,
   "metadata": {},
   "outputs": [],
   "source": [
    "def handle_generes(x):\n",
    "    generes = []\n",
    "    for k, v in x.items():\n",
    "        if v == 1:\n",
    "            generes.append(str(k))\n",
    "    return '|'.join(generes)\n",
    "item_df['generes'] = item_df.loc[:, 5:].apply(handle_generes, axis=1)\n",
    "\n",
    "item_df.rename({\n",
    "    0: 'movie_id',\n",
    "    1: 'title',\n",
    "}, axis=1, inplace=True)\n",
    "\n",
    "item_df = item_df[['movie_id', 'title', 'generes']]\n",
    "item_df"
   ]
  },
  {
   "cell_type": "code",
   "execution_count": null,
   "metadata": {},
   "outputs": [],
   "source": [
    "data_df = pd.merge(rating_df, user_df, on='user_id')\n",
    "data_df = pd.merge(data_df, item_df, on='movie_id')\n",
    "data_df"
   ]
  },
  {
   "cell_type": "code",
   "execution_count": null,
   "metadata": {},
   "outputs": [],
   "source": [
    "data_df.to_csv('/data/ml-100k/ml100k.txt', index=False)"
   ]
  }
 ],
 "metadata": {
  "interpreter": {
   "hash": "a890bbb692c9c7f124f7f8b0b4c2c1335b6093ace8c9ea946abc46d40c552989"
  },
  "kernelspec": {
   "display_name": "Python 3.8.5 ('workspace')",
   "language": "python",
   "name": "python3"
  },
  "language_info": {
   "codemirror_mode": {
    "name": "ipython",
    "version": 3
   },
   "file_extension": ".py",
   "mimetype": "text/x-python",
   "name": "python",
   "nbconvert_exporter": "python",
   "pygments_lexer": "ipython3",
   "version": "3.8.5"
  },
  "orig_nbformat": 4
 },
 "nbformat": 4,
 "nbformat_minor": 2
}
