{
 "cells": [
  {
   "cell_type": "code",
   "execution_count": null,
   "metadata": {},
   "outputs": [],
   "source": [
    "import pandas as pd\n",
    "import gzip"
   ]
  },
  {
   "cell_type": "code",
   "execution_count": null,
   "metadata": {},
   "outputs": [],
   "source": [
    "def parse(filename):\n",
    "  f = gzip.open(filename, 'rb')\n",
    "  entry = {}\n",
    "  for l in f:\n",
    "    l = str(l, 'utf8')\n",
    "    l = l.strip()\n",
    "    colonPos = l.find(':')\n",
    "    if colonPos == -1:\n",
    "      yield entry\n",
    "      entry = {}\n",
    "      continue\n",
    "    eName = l[:colonPos]\n",
    "    rest = l[colonPos+2:]\n",
    "    entry[eName] = rest\n",
    "  yield entry\n",
    "\n",
    "def getDF(path):\n",
    "    i = 0\n",
    "    data = []\n",
    "    for d in parse(path):\n",
    "        data.append(d)\n",
    "        # i += 1\n",
    "        # if i >= 1000:\n",
    "        #     break\n",
    "    return pd.DataFrame(data)\n",
    "  \n",
    "def is_number(s):\n",
    "    try:\n",
    "        float(s)\n",
    "        return True\n",
    "    except ValueError:\n",
    "        pass\n",
    "\n",
    "    try:\n",
    "        import unicodedata\n",
    "        unicodedata.numeric(s)\n",
    "        return True\n",
    "    except (TypeError, ValueError):\n",
    "        pass\n",
    "\n",
    "    return False\n",
    "\n",
    "def filte(df: pd.DataFrame, thresh1=20, thresh2=10):\n",
    "    \"\"\"Genrate users and items to be filted\n",
    "    \"\"\"\n",
    "    users = set()\n",
    "    for k, v in df['reviewerID'].value_counts().items():\n",
    "        if v < thresh1:\n",
    "            users.add(k)\n",
    "\n",
    "    items = set()\n",
    "    for k, v in df['asin'].value_counts().items():\n",
    "        if v < thresh2:\n",
    "            items.add(k)\n",
    "\n",
    "    return users, items"
   ]
  },
  {
   "cell_type": "code",
   "execution_count": null,
   "metadata": {},
   "outputs": [],
   "source": [
    "file_path = '/data/amazon/amazon_book/Books.txt.gz'\n",
    "book_df = getDF(file_path)"
   ]
  },
  {
   "cell_type": "code",
   "execution_count": null,
   "metadata": {},
   "outputs": [],
   "source": [
    "book_df.drop(['product/title', 'review/profileName', 'review/helpfulness', 'review/score', 'review/summary', 'review/text'], axis=1, inplace=True)\n",
    "book_df.rename(columns={'review/userId': 'reviewerID', 'product/productId': 'asin', 'product/price': 'price', 'review/time': 'time'}, inplace=True)"
   ]
  },
  {
   "cell_type": "code",
   "execution_count": null,
   "metadata": {},
   "outputs": [],
   "source": [
    "book_df['price'].fillna('unknown', inplace=True)"
   ]
  },
  {
   "cell_type": "code",
   "execution_count": null,
   "metadata": {},
   "outputs": [],
   "source": [
    "book_df.dropna(inplace=True)"
   ]
  },
  {
   "cell_type": "code",
   "execution_count": null,
   "metadata": {},
   "outputs": [],
   "source": [
    "book_df.drop(book_df[book_df['reviewerID'] == 'unknown'].index, inplace=True)"
   ]
  },
  {
   "cell_type": "code",
   "execution_count": null,
   "metadata": {},
   "outputs": [],
   "source": [
    "filte_users, filte_items = filte(book_df)  # users and items to be filted\n",
    "book_df.drop(book_df[book_df['reviewerID'].isin(filte_users)].index, inplace=True)\n",
    "book_df.drop(book_df[book_df['asin'].isin(filte_items)].index, inplace=True)\n",
    "\n",
    "# filted_df = book_df.drop(book_df[book_df['reviewerID'].isin(filte_users)].index)\n",
    "# filted_df.drop(filted_df[filted_df['asin'].isin(filte_items)].index)"
   ]
  },
  {
   "cell_type": "code",
   "execution_count": null,
   "metadata": {},
   "outputs": [],
   "source": [
    "book_df['price'] = book_df['price'].map(lambda x: 0 if not is_number(x) else float(x))\n",
    "book_df['price'] = pd.qcut(book_df['price'], q=50, duplicates='drop', labels=False)"
   ]
  },
  {
   "cell_type": "code",
   "execution_count": null,
   "metadata": {},
   "outputs": [],
   "source": [
    "book_df['time'] = book_df['time'].astype('int64')"
   ]
  },
  {
   "cell_type": "code",
   "execution_count": null,
   "metadata": {},
   "outputs": [],
   "source": [
    "book_df"
   ]
  },
  {
   "cell_type": "code",
   "execution_count": null,
   "metadata": {},
   "outputs": [],
   "source": [
    "book_df.to_csv('/data/amazon/amazon_book/amazon_book.txt', index=False)"
   ]
  }
 ],
 "metadata": {
  "interpreter": {
   "hash": "a890bbb692c9c7f124f7f8b0b4c2c1335b6093ace8c9ea946abc46d40c552989"
  },
  "kernelspec": {
   "display_name": "Python 3.8.5 ('workspace')",
   "language": "python",
   "name": "python3"
  },
  "language_info": {
   "codemirror_mode": {
    "name": "ipython",
    "version": 3
   },
   "file_extension": ".py",
   "mimetype": "text/x-python",
   "name": "python",
   "nbconvert_exporter": "python",
   "pygments_lexer": "ipython3",
   "version": "3.8.5"
  },
  "orig_nbformat": 4
 },
 "nbformat": 4,
 "nbformat_minor": 2
}
